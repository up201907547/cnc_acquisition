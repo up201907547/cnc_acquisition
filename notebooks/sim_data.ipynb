{
 "cells": [
  {
   "cell_type": "code",
   "execution_count": 39,
   "id": "9a187ccf",
   "metadata": {},
   "outputs": [
    {
     "name": "stdout",
     "output_type": "stream",
     "text": [
      "(71700,)\n",
      "           Time             Batch_ID        Cu\n",
      "0  1.748016e+09  1748015779986666600 -0.328311\n",
      "1  1.748016e+09  1748015779986666600  0.152759\n",
      "2  1.748016e+09  1748015779986666600  0.287854\n",
      "3  1.748016e+09  1748015779986666600  0.225249\n",
      "4  1.748016e+09  1748015779986666600  0.044024\n"
     ]
    }
   ],
   "source": [
    "import pandas as pd\n",
    "import numpy as np\n",
    "\n",
    "data = pd.read_csv(r'D:\\.Universidade\\Doutoramento_Engenharia_Mecanica\\Datasets\\Backup_save\\Dados_SISMA\\Testes U500Xd2\\Testes U500Xd2\\pinças\\ensaio5\\2025-05-23_16-55-08\\daq_data.csv')\n",
    "\n",
    "data_daq = np.array(data[['Cu']]).squeeze()\n",
    "print(data_daq.shape)\n",
    "print(data.head())"
   ]
  },
  {
   "cell_type": "code",
   "execution_count": 40,
   "id": "44dcac2f",
   "metadata": {},
   "outputs": [
    {
     "name": "stdout",
     "output_type": "stream",
     "text": [
      "71700\n",
      "71700\n"
     ]
    }
   ],
   "source": [
    "batch_rows = np.arange(0, len(data), 100)\n",
    "newbatch_id = []\n",
    "j = 0\n",
    "\n",
    "for i in range(len(data)):\n",
    "    # Prevent overflow\n",
    "    if j >= len(batch_rows):\n",
    "        newbatch_id.append(int(data[\"Time\"].iloc[-1] * 1e9))  # Repeat last valid time\n",
    "    else:\n",
    "        newbatch_id.append(int(data[\"Time\"].iloc[batch_rows[j]] * 1e9))\n",
    "\n",
    "    # Update batch index every 100 rows\n",
    "    if (i + 1) % 100 == 0:\n",
    "        j += 1\n",
    "\n",
    "newbatch_id = np.array(newbatch_id)\n",
    "unique_newbatch_id = np.unique(newbatch_id)\n",
    "\n",
    "print(len(newbatch_id))\n",
    "\n",
    "#Compute Cu_rms\n",
    "def moving_rms(signal, window_size):\n",
    "    # Square the signal\n",
    "    squared = np.power(signal, 2)\n",
    "\n",
    "    # Compute moving average of squared values using 'valid' to avoid edge effects\n",
    "    window = np.ones(window_size) / window_size\n",
    "    mean_squared = np.convolve(squared, window, mode='valid')\n",
    "\n",
    "    # Take square root to get RMS\n",
    "    rms = np.sqrt(mean_squared)\n",
    "\n",
    "    # Pad the beginning with zeros for the first (window_size - 1) values\n",
    "    padded_rms = np.concatenate([np.zeros(window_size - 1), rms])\n",
    "\n",
    "    return padded_rms\n",
    "\n",
    "# Apply RMS filter\n",
    "window_size = 40\n",
    "signal = data_daq.astype(float)\n",
    "smoothed_rms = moving_rms(signal, window_size)\n",
    "\n",
    "print(len(smoothed_rms))"
   ]
  },
  {
   "cell_type": "code",
   "execution_count": 41,
   "id": "6a96c90e",
   "metadata": {},
   "outputs": [
    {
     "name": "stdout",
     "output_type": "stream",
     "text": [
      "Simulated InfluxDB data written to influx_simulated.txt\n"
     ]
    }
   ],
   "source": [
    "# Define measurement name and optional tag\n",
    "measurement = \"sensor_data\"\n",
    "experiment_name = \"expteste\"\n",
    "\n",
    "lines = []\n",
    "for i, row in data.iterrows():\n",
    "    timestamp = float(row[\"Time\"])\n",
    "    Batch_=  newbatch_id[i]\n",
    "    cu_value = float(row[\"Cu\"])\n",
    "    cu_rms = float(smoothed_rms[i])\n",
    "\n",
    "    # Construct InfluxDB line\n",
    "    line = f\"{measurement},experiment_name={experiment_name},batch_id={Batch_} Cu={cu_value},Cu_rms={cu_rms} {timestamp}\"\n",
    "    lines.append(line)\n",
    "\n",
    "# Write to file\n",
    "with open(\"influx_simulated.txt\", \"w\") as f:\n",
    "    for line in lines:\n",
    "        f.write(line + \"\\n\")\n",
    "\n",
    "print(\"Simulated InfluxDB data written to influx_simulated.txt\")"
   ]
  }
 ],
 "metadata": {
  "kernelspec": {
   "display_name": ".venv",
   "language": "python",
   "name": "python3"
  },
  "language_info": {
   "codemirror_mode": {
    "name": "ipython",
    "version": 3
   },
   "file_extension": ".py",
   "mimetype": "text/x-python",
   "name": "python",
   "nbconvert_exporter": "python",
   "pygments_lexer": "ipython3",
   "version": "3.12.2"
  }
 },
 "nbformat": 4,
 "nbformat_minor": 5
}
