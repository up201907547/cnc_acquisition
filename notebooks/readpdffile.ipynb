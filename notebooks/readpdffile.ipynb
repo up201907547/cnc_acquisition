{
 "cells": [
  {
   "cell_type": "code",
   "execution_count": 27,
   "id": "09c7f00e",
   "metadata": {},
   "outputs": [
    {
     "name": "stderr",
     "output_type": "stream",
     "text": [
      "CropBox missing from /Page, defaulting to MediaBox\n",
      "CropBox missing from /Page, defaulting to MediaBox\n",
      "CropBox missing from /Page, defaulting to MediaBox\n",
      "CropBox missing from /Page, defaulting to MediaBox\n"
     ]
    }
   ],
   "source": [
    "import pdfplumber\n",
    "\n",
    "with pdfplumber.open(r\"D:\\.Universidade\\Doutoramento_Engenharia_Mecanica\\SISMA\\Beatriz\\AP2.pdf\") as pdf:\n",
    "    all_text = []\n",
    "\n",
    "    for page in pdf.pages:\n",
    "        text = page.extract_text()\n",
    "        if text:\n",
    "            all_text.append(text)\n",
    "\n",
    "    text = \"\\n\".join(all_text)"
   ]
  },
  {
   "cell_type": "code",
   "execution_count": null,
   "id": "22d0c3e1",
   "metadata": {},
   "outputs": [
    {
     "name": "stdout",
     "output_type": "stream",
     "text": [
      "28\n",
      "{'Op_1': '00:00:32', 'Op_2': '00:00:16', 'Op_3': '00:00:28', 'Op_4': '00:01:04', 'Op_5': '00:00:15', 'Op_6': '00:00:12', 'Op_7': '00:00:26', 'Op_8': '00:00:02', 'Op_9': '00:00:21', 'Op_10': '00:00:03', 'Op_11': '00:00:22', 'Op_12': '00:00:29', 'Op_13': '00:00:12', 'Op_14': '00:01:00', 'Op_15': '00:00:08', 'Op_16': '00:00:20', 'Op_17': '00:00:04', 'Op_18': '00:00:03', 'Op_19': '00:00:01', 'Op_20': '00:00:01', 'Op_21': '00:00:02', 'Op_22': '00:00:11', 'Op_23': '00:00:24', 'Op_24': '00:00:19', 'Op_25': '00:00:05', 'Op_26': '00:00:02', 'Op_27': '00:00:05', 'Op_28': '00:00:02'}\n"
     ]
    }
   ],
   "source": [
    "import pandas as pd\n",
    "import re\n",
    "\n",
    "CAM_dict = {}\n",
    "\n",
    "words = text.split()\n",
    "timers = []\n",
    "\n",
    "for word in words:\n",
    "    if re.match(r\"\\b\\d{2}:\\d{2}:\\d{2}\\b\", word):\n",
    "        timers.append(word)\n",
    "\n",
    "print(len(timers))\n",
    "\n",
    "for i in range(len(timers)):\n",
    "    CAM_dict[f'Op_{i+1}'] = timers[i]\n",
    "\n",
    "print(CAM_dict)"
   ]
  },
  {
   "cell_type": "code",
   "execution_count": 30,
   "id": "f0c34dab",
   "metadata": {},
   "outputs": [],
   "source": [
    "import json\n",
    "\n",
    "with open(r\"C:\\Users\\Lenovo\\Desktop\\CNC_Influx2\\config\\CAM_info.json\", \"w\") as f:\n",
    "    json.dump(CAM_dict, f, indent=4)"
   ]
  }
 ],
 "metadata": {
  "kernelspec": {
   "display_name": ".venv",
   "language": "python",
   "name": "python3"
  },
  "language_info": {
   "codemirror_mode": {
    "name": "ipython",
    "version": 3
   },
   "file_extension": ".py",
   "mimetype": "text/x-python",
   "name": "python",
   "nbconvert_exporter": "python",
   "pygments_lexer": "ipython3",
   "version": "3.12.2"
  }
 },
 "nbformat": 4,
 "nbformat_minor": 5
}
