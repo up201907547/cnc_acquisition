{
 "cells": [
  {
   "cell_type": "code",
   "execution_count": 8,
   "id": "882d25b5",
   "metadata": {},
   "outputs": [],
   "source": [
    "import numpy as np\n",
    "import pandas as pd\n",
    "import os\n",
    "import matplotlib.pyplot as plt\n",
    "import re\n",
    "import json"
   ]
  },
  {
   "cell_type": "code",
   "execution_count": 9,
   "id": "5df4e4eb",
   "metadata": {},
   "outputs": [],
   "source": [
    "def get_folder_size(path: str) -> int:\n",
    "    \"\"\"Return the size of a folder in bytes (recursively).\"\"\"\n",
    "    total = 0\n",
    "    for dirpath, _, filenames in os.walk(path):\n",
    "        for filename in filenames:\n",
    "            fp = os.path.join(dirpath, filename)\n",
    "            if os.path.isfile(fp):\n",
    "                total += os.path.getsize(fp)\n",
    "    return total"
   ]
  },
  {
   "cell_type": "code",
   "execution_count": 15,
   "id": "0285280e",
   "metadata": {},
   "outputs": [
    {
     "name": "stdout",
     "output_type": "stream",
     "text": [
      "Data deleted successfully.\n",
      "Empty folder size saved: 70.2859878540039 MB\n"
     ]
    }
   ],
   "source": [
    "empty_folder = np.load(\"empty_folder.npy\")\n",
    "\n",
    "influx_path = r\"C:\\Users\\Lenovo\\.influxdbv2\\engine\\data\\04be9c59542a1b8a\"\n",
    "size_bytes = get_folder_size(influx_path)\n",
    "size_mb = size_bytes/(1024*1024) - empty_folder\n",
    "\n",
    "logs_path = r\"C:\\Users\\Lenovo\\Desktop\\CNC_Influx2\\logs\"\n",
    "\n",
    "largest_number = 0\n",
    "latest_folder = None\n",
    "for file in os.listdir(logs_path):\n",
    "    parts = re.split(r\"[-_.]\", file)\n",
    "    number_str = \"\".join(parts[:-1])\n",
    "    number = int(number_str)\n",
    "    if number > largest_number:\n",
    "        largest_number = number\n",
    "        latest_folder = file\n",
    "\n",
    "log_path = os.path.join(logs_path, latest_folder)\n",
    "\n",
    "#CSV_size\n",
    "folder_name_csv = latest_folder.replace(\".txt\", \"\") \n",
    "csv_path = os.path.join(r\"C:\\Users\\Lenovo\\Desktop\\CNC_Influx2\\data\\teste\", folder_name_csv, \"daq_data.csv\")\n",
    "size_bytes_csv = os.path.getsize(csv_path)\n",
    "size_mb_csv = size_bytes_csv/(1024*1024)\n",
    "\n",
    "new_entry1 = f\"Size influx: {round(size_mb, 4)} MB\"\n",
    "new_entry2 = f\"Size csv: {round(size_mb_csv, 4)} MB\"\n",
    "\n",
    "with open(log_path, \"a\") as f:\n",
    "    f.write(new_entry1 + \"\\n\")\n",
    "    f.write(new_entry2 + \"\\n\")\n",
    "\n",
    "#Erase data from bucket\n",
    "from influxdb_client import InfluxDBClient\n",
    "\n",
    "# ---- Replace these values with your InfluxDB setup ----\n",
    "token_del = \"dVUcOtQscCWIT96i5vBgA9qWHDDKQ6OhOwTLcOzXPRAu6Xsbh-2MCVL6oV7_p9Y4Y7nHtyVes5MkxlQMClnmUw==\"\n",
    "org_del = \"FEUP\"\n",
    "target_bucket = \"Data_size_debug\"\n",
    "url = \"http://localhost:8086\"  # or your cloud URL\n",
    "\n",
    "# Define time range (delete everything)\n",
    "start = \"1970-01-01T00:00:00Z\"\n",
    "stop = \"2100-01-01T00:00:00Z\"\n",
    "\n",
    "predicate = '_measurement=\"sensor_data\"'\n",
    "predicate2 = '_measurement=\"sensor_data_processed\"'\n",
    "\n",
    "# Connect to InfluxDB\n",
    "client = InfluxDBClient(url=url, token=token_del, org=org_del)\n",
    "\n",
    "# Delete data\n",
    "delete_api = client.delete_api()\n",
    "delete_api.delete(start, stop, predicate, bucket=target_bucket, org=org_del)\n",
    "delete_api.delete(start, stop, predicate2, bucket=target_bucket, org=org_del)\n",
    "\n",
    "print(\"Data deleted successfully.\")\n",
    "\n",
    "influx_path = r\"C:\\Users\\Lenovo\\.influxdbv2\\engine\\data\\04be9c59542a1b8a\"\n",
    "size_bytes = get_folder_size(influx_path)\n",
    "size_mb = size_bytes\n",
    "\n",
    "empty_folder = size_mb/(1024*1024)\n",
    "np.save(\"empty_folder.npy\", empty_folder)\n",
    "print(f\"Empty folder size saved: {empty_folder} MB\")"
   ]
  },
  {
   "cell_type": "code",
   "execution_count": null,
   "id": "a36d89be",
   "metadata": {},
   "outputs": [
    {
     "data": {
      "image/png": "[encoded data removed]",
      "text/plain": [
       "<Figure size 600x500 with 1 Axes>"
      ]
     },
     "metadata": {},
     "output_type": "display_data"
    }
   ],
   "source": [
    "path = r\"C:\\Users\\Lenovo\\Desktop\\CNC_Influx2\\data\\teste\"\n",
    "\n",
    "folders = [f for f in os.listdir(path) if os.path.isdir(os.path.join(path, f))]\n",
    "\n",
    "times = [30, 30, 30, 30, 30, 30]\n",
    "sampling_rates = [100, 500, 1000, 5000, 10000, 20000]\n",
    "datapoints = []\n",
    "\n",
    "for i, folder in enumerate(folders):\n",
    "    folder_path = os.path.join(path, folder)\n",
    "    file_path = os.path.join(folder_path, \"daq_data.csv\")\n",
    "    df = pd.read_csv(file_path)\n",
    "        \n",
    "    datapoints.append(len(df))\n",
    "\n",
    "expected_datapoints = [t * s for t, s in zip(times, sampling_rates)]\n",
    "percentage_differences = [\n",
    "    np.abs((dp - expected) / expected * 100) for dp, expected in zip(datapoints, expected_datapoints)\n",
    "]\n",
    "\n",
    "sampling_rates = [str(rate) + \" Hz\" for rate in sampling_rates]\n",
    "\n",
    "plt.figure(figsize=(6, 5))\n",
    "bars = plt.bar(sampling_rates, percentage_differences, color='skyblue')\n",
    "plt.xlabel('Sampling rate (Hz)', fontsize=14)\n",
    "plt.ylabel('Data Loss (%)', fontsize=14)\n",
    "plt.ylim([0, max(percentage_differences) + 10])\n",
    "plt.xticks(rotation=0, fontsize=12)\n",
    "plt.yticks(fontsize=12)\n",
    "plt.tight_layout()\n",
    "\n",
    "# Annotate each bar with its value\n",
    "for bar, value in zip(bars, percentage_differences):\n",
    "    plt.text(bar.get_x() + bar.get_width()/2, bar.get_height() + 0.5, f\"{value:.2f}%\", \n",
    "             ha='center', va='bottom', fontsize=12)\n",
    "\n",
    "plt.show()"
   ]
  },
  {
   "cell_type": "code",
   "execution_count": 14,
   "id": "470e89a4",
   "metadata": {},
   "outputs": [
    {
     "name": "stdout",
     "output_type": "stream",
     "text": [
      "['2025-06-18_11-51-06', '2025-06-18_11-56-42', '2025-06-18_12-01-35', '2025-06-18_12-03-43', '2025-06-18_12-08-00', '2025-06-18_12-14-21']\n"
     ]
    }
   ],
   "source": [
    "print(folders)"
   ]
  },
  {
   "cell_type": "code",
   "execution_count": 81,
   "id": "d53efe60",
   "metadata": {},
   "outputs": [],
   "source": [
    "experiment_name = '2025-06-18_12-14-21'"
   ]
  },
  {
   "cell_type": "code",
   "execution_count": 82,
   "id": "cd23fee4",
   "metadata": {},
   "outputs": [
    {
     "name": "stdout",
     "output_type": "stream",
     "text": [
      "Base size: 34082618 bytes\n"
     ]
    }
   ],
   "source": [
    "def get_folder_size(path: str) -> int:\n",
    "    \"\"\"Return the size of a folder in bytes (recursively).\"\"\"\n",
    "    total = 0\n",
    "    for dirpath, _, filenames in os.walk(path):\n",
    "        for filename in filenames:\n",
    "            fp = os.path.join(dirpath, filename)\n",
    "            if os.path.isfile(fp):\n",
    "                total += os.path.getsize(fp)\n",
    "    return total\n",
    "\n",
    "# Your InfluxDB bucket path\n",
    "path_influx = r\"C:\\Users\\Lenovo\\.influxdbv2\\engine\\data\\04be9c59542a1b8a\"\n",
    "\n",
    "# Get size in bytes\n",
    "size_bytes = get_folder_size(path_influx)\n",
    "base = size_bytes\n",
    "print(f\"Base size: {base} bytes\")"
   ]
  },
  {
   "cell_type": "code",
   "execution_count": null,
   "id": "c173093f",
   "metadata": {},
   "outputs": [],
   "source": [
    "\n",
    "#from influxdb_client import InfluxDBClient, Point\n",
    "#from influxdb_client.client.write_api import SYNCHRONOUS\n",
    "#from collections import defaultdict\n",
    "#import os\n",
    "#\n",
    "#client = InfluxDBClient(\n",
    "#url=\"http://localhost:8086\",\n",
    "#token=\"dVUcOtQscCWIT96i5vBgA9qWHDDKQ6OhOwTLcOzXPRAu6Xsbh-2MCVL6oV7_p9Y4Y7nHtyVes5MkxlQMClnmUw==\",\n",
    "#org=\"FEUP\"\n",
    "#)\n",
    "#\n",
    "#target_bucket = \"Data_size_debug\"\n",
    "#org = \"FEUP\"\n",
    "#write_api = client.write_api(write_options=SYNCHRONOUS)\n",
    "#\n",
    "## Query distinct batch_ids for the experiment\n",
    "#batch_id_query = f'''\n",
    "#import \"influxdata/influxdb/schema\"\n",
    "#from(bucket: \"CNC data\")\n",
    "#|> range(start: 0)\n",
    "#|> filter(fn: (r) => r[\"_measurement\"] == \"sensor_data\")\n",
    "#|> filter(fn: (r) => r[\"experiment_name\"] == \"{experiment_name}\")\n",
    "#|> keep(columns: [\"batch_id\"])\n",
    "#|> group(columns: [\"batch_id\"])\n",
    "#|> distinct(column: \"batch_id\")\n",
    "#|> drop(columns: [\"batch_id\"])\n",
    "#'''\n",
    "#batch_id_tables = client.query_api().query(batch_id_query)\n",
    "#batch_ids = set()\n",
    "#for table in batch_id_tables:\n",
    "#    for record in table.records:\n",
    "#        batch_ids.add(record[\"_value\"])\n",
    "#\n",
    "#all_rows = []\n",
    "#for batch_id in batch_ids:\n",
    "#    #print(f\"Fetching batch {batch_id}\")\n",
    "#    query1 = f'''\n",
    "#        from(bucket: \"CNC data\")\n",
    "#        |> range(start: 0)\n",
    "#        |> filter(fn: (r) => r[\"_measurement\"] == \"sensor_data\")\n",
    "#        |> filter(fn: (r) => r[\"experiment_name\"] == \"{experiment_name}\")\n",
    "#        |> filter(fn: (r) => r[\"batch_id\"] == \"{batch_id}\")\n",
    "#    '''\n",
    "#    query2 = f'''\n",
    "#        from(bucket: \"CNC data\")\n",
    "#        |> range(start: 0)\n",
    "#        |> filter(fn: (r) => r[\"_measurement\"] == \"sensor_data_processed\")\n",
    "#        |> filter(fn: (r) => r[\"experiment_name\"] == \"{experiment_name}\")\n",
    "#        |> filter(fn: (r) => r[\"batch_id\"] == \"{batch_id}\")\n",
    "#    '''\n",
    "#\n",
    "#    tables1 = client.query_api().query(query1)\n",
    "#    tables2 = client.query_api().query(query2)\n",
    "#\n",
    "#    pivoted_data = defaultdict(dict)\n",
    "#\n",
    "#    for table in tables1:\n",
    "#        for record in table.records:\n",
    "#            timestamp = record.get_time().timestamp()\n",
    "#            field = record.get_field()\n",
    "#            value = record.get_value()\n",
    "#            pivoted_data[timestamp][field] = value\n",
    "#            pivoted_data[timestamp]['Batch_id'] = batch_id\n",
    "#\n",
    "#    for table in tables2:\n",
    "#        for record in table.records:\n",
    "#            timestamp = record.get_time().timestamp()\n",
    "#            field = record.get_field()\n",
    "#            value = record.get_value()\n",
    "#            pivoted_data[timestamp][field] = value\n",
    "#            #pivoted_data[timestamp]['Batch_id'] = batch_id\n",
    "#\n",
    "#    all_rows.extend([\n",
    "#        {\"Time\": ts, **fields}\n",
    "#        for ts, fields in pivoted_data.items()\n",
    "#    ])\n",
    "#\n",
    "#all_rows.sort(key=lambda x: x['Time'])\n",
    "#\n",
    "#for row in all_rows:\n",
    "#    point = Point(\"sensor_data\") \\\n",
    "#        .tag(\"Batch_id\", str(row.get(\"Batch_id\", \"\")))\n",
    "#\n",
    "#    for key, value in row.items():\n",
    "#        if key not in [\"Time\", \"Batch_id\"] and isinstance(value, (int, float)):\n",
    "#            point = point.field(key, value)\n",
    "#\n",
    "#    # Convert float seconds to integer nanoseconds\n",
    "#    timestamp_ns = int(row[\"Time\"] * 1e9)\n",
    "#    point = point.time(timestamp_ns, write_precision='ns')\n",
    "#\n",
    "#    write_api.write(bucket=target_bucket, org=org, record=point)"
   ]
  },
  {
   "cell_type": "code",
   "execution_count": null,
   "id": "f0ce2080",
   "metadata": {},
   "outputs": [
    {
     "name": "stdout",
     "output_type": "stream",
     "text": [
      "Total size in bytes: 197158973\n"
     ]
    },
    {
     "ename": "",
     "evalue": "",
     "output_type": "error",
     "traceback": [
      "\u001b[1;31mThe Kernel crashed while executing code in the current cell or a previous cell. \n",
      "\u001b[1;31mPlease review the code in the cell(s) to identify a possible cause of the failure. \n",
      "\u001b[1;31mClick <a href='https://aka.ms/vscodeJupyterKernelCrash'>here</a> for more info. \n",
      "\u001b[1;31mView Jupyter <a href='command:jupyter.viewOutput'>log</a> for further details."
     ]
    }
   ],
   "source": [
    "# Get size in bytes\n",
    "size_bytes = get_folder_size(path_influx)\n",
    "print(f\"Total size in bytes: {size_bytes-base}\")"
   ]
  },
  {
   "cell_type": "code",
   "execution_count": 80,
   "id": "55e35e8a",
   "metadata": {},
   "outputs": [
    {
     "name": "stdout",
     "output_type": "stream",
     "text": [
      "Data deleted successfully.\n"
     ]
    }
   ],
   "source": [
    "from influxdb_client import InfluxDBClient, DeleteApi\n",
    "from influxdb_client.client.write_api import SYNCHRONOUS\n",
    "from datetime import datetime\n",
    "\n",
    "# ---- Replace these values with your InfluxDB setup ----\n",
    "token_del = \"dVUcOtQscCWIT96i5vBgA9qWHDDKQ6OhOwTLcOzXPRAu6Xsbh-2MCVL6oV7_p9Y4Y7nHtyVes5MkxlQMClnmUw==\"\n",
    "org_del = \"FEUP\"\n",
    "target_bucket = \"Data_size_debug\"\n",
    "url = \"http://localhost:8086\"  # or your cloud URL\n",
    "\n",
    "# Define time range (delete everything)\n",
    "start = \"1970-01-01T00:00:00Z\"\n",
    "stop = \"2100-01-01T00:00:00Z\"\n",
    "\n",
    "predicate = '_measurement=\"sensor_data\"'\n",
    "\n",
    "# Connect to InfluxDB\n",
    "client = InfluxDBClient(url=url, token=token_del, org=org_del)\n",
    "\n",
    "# Delete data\n",
    "delete_api = client.delete_api()\n",
    "delete_api.delete(start, stop, predicate, bucket=target_bucket, org=org_del)\n",
    "\n",
    "print(\"Data deleted successfully.\")\n"
   ]
  },
  {
   "cell_type": "code",
   "execution_count": 24,
   "id": "2deb5c52",
   "metadata": {},
   "outputs": [
    {
     "data": {
      "image/png": "[encoded data removed]",
      "text/plain": [
       "<Figure size 600x500 with 1 Axes>"
      ]
     },
     "metadata": {},
     "output_type": "display_data"
    }
   ],
   "source": [
    "csv = [2630080, 11042816, 132259984, 111792128, 299183231, 472248320]\n",
    "influx = [12230, 9520, 9172, 32483486, 113056314, 197158973]\n",
    "\n",
    "def corvert_to_mb(size_in_bytes):\n",
    "    return size_in_bytes / (1024 * 1024)\n",
    "\n",
    "csv = [corvert_to_mb(size) for size in csv]\n",
    "influx = [corvert_to_mb(size) for size in influx]\n",
    "\n",
    "x = np.arange(len(sampling_rates))  # X locations for the groups\n",
    "width = 0.35  # Width of the bars\n",
    "\n",
    "plt.figure(figsize=(6, 5))\n",
    "\n",
    "# Plotting side-by-side bars\n",
    "bars1 = plt.bar(x - width/2, csv, width, label='CSV', color='green')\n",
    "bars2 = plt.bar(x + width/2, influx, width, label='InfluxDB', color='purple')\n",
    "\n",
    "plt.xlabel('Sampling rate (Hz)', fontsize=14)\n",
    "plt.ylabel('Data Storage Size (MB)', fontsize=14)\n",
    "plt.ylim([0, max(max(csv), max(influx)) + 200])\n",
    "plt.xticks(x, sampling_rates)\n",
    "plt.legend(fontsize=14)\n",
    "plt.tight_layout()\n",
    "\n",
    "\n",
    "for bar, value in zip(bars1, csv):\n",
    "    plt.text(\n",
    "        bar.get_x() + bar.get_width()/2 - 0.08,  # shift slightly left\n",
    "        bar.get_height() + 5,\n",
    "        f\"{value:.2f}\",\n",
    "        ha='center',\n",
    "        va='bottom',\n",
    "        fontsize=11\n",
    "    )\n",
    "\n",
    "for bar, value in zip(bars2, influx):\n",
    "    plt.text(\n",
    "        bar.get_x() + bar.get_width()/2 + 0.08,  # shift slightly right\n",
    "        bar.get_height() + 5,\n",
    "        f\"{value:.2f}\",\n",
    "        ha='center',\n",
    "        va='bottom',\n",
    "        fontsize=11\n",
    "    )\n",
    "\n",
    "plt.xticks(rotation=0, fontsize=12)\n",
    "plt.yticks(fontsize=12)\n",
    "plt.show()"
   ]
  }
 ],
 "metadata": {
  "kernelspec": {
   "display_name": ".venv",
   "language": "python",
   "name": "python3"
  },
  "language_info": {
   "codemirror_mode": {
    "name": "ipython",
    "version": 3
   },
   "file_extension": ".py",
   "mimetype": "text/x-python",
   "name": "python",
   "nbconvert_exporter": "python",
   "pygments_lexer": "ipython3",
   "version": "3.12.2"
  }
 },
 "nbformat": 4,
 "nbformat_minor": 5
}
